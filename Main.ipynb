{
 "cells": [
  {
   "cell_type": "markdown",
   "id": "05524ad8",
   "metadata": {},
   "source": [
    "# Model Assertion Framework for Trading Strategy"
   ]
  },
  {
   "cell_type": "code",
   "execution_count": 76,
   "id": "bc0ff1ce",
   "metadata": {},
   "outputs": [],
   "source": [
    "# Setting environment\n",
    "# imports & settings\n",
    "import warnings\n",
    "warnings.filterwarnings('ignore')\n",
    "\n",
    "%matplotlib inline\n",
    "import numpy as np\n",
    "import pandas as pd\n",
    "import matplotlib.pyplot as plt\n",
    "import seaborn as sns\n",
    "\n",
    "import yfinance as yf\n",
    "\n",
    "#FeatureEngineering\n",
    "from talib import RSI, BBANDS, MACD, ATR, MA, MIDPRICE\n",
    "\n",
    "#GetStrategy\n",
    "import xgboost as xgb\n",
    "\n",
    "#ValidateStrategy\n",
    "from sklearn.metrics import mean_absolute_error\n",
    "from sklearn.metrics import mean_squared_error\n",
    "from sktime.performance_metrics.forecasting import mean_absolute_percentage_error\n",
    "from sktime.performance_metrics.forecasting import mean_absolute_scaled_error\n",
    "from sklearn.metrics import r2_score\n",
    "from sklearn.ensemble import IsolationForest\n",
    "from sklearn.preprocessing import MinMaxScaler,StandardScaler\n",
    "from sklearn.cluster import DBSCAN\n",
    "import hdbscan"
   ]
  },
  {
   "cell_type": "markdown",
   "id": "3e859e7b",
   "metadata": {},
   "source": [
    "## PART A: DATA GENERATION"
   ]
  },
  {
   "cell_type": "markdown",
   "id": "6e2f5ba9",
   "metadata": {},
   "source": [
    "#### A-1. Get Financial Data"
   ]
  },
  {
   "cell_type": "code",
   "execution_count": 77,
   "id": "58d5f673",
   "metadata": {},
   "outputs": [],
   "source": [
    "class get_yfinance_data:\n",
    "    def __init__(self, ticker_symbol, start_date, end_date):\n",
    "        self.ticker_symbol = ticker_symbol\n",
    "        self.start_date = start_date\n",
    "        self.end_date = end_date\n",
    "        # get daily financial data from yahoo finance api\n",
    "        self.df = yf.download(self.ticker_symbol, \n",
    "                      start='2000-01-01', \n",
    "                      end='2022-05-01', \n",
    "                      progress=False)\n",
    "    def add_techical_indicators(self):\n",
    "        new_df = self.df\n",
    "        \n",
    "        # date\n",
    "        new_df['year'] = new_df.index.get_level_values('Date').year\n",
    "        new_df['month'] = new_df.index.get_level_values('Date').month\n",
    "        \n",
    "        #moving average\n",
    "        new_df['MA'] = MA(new_df.Close, timeperiod=30, matype=0)\n",
    "        \n",
    "        # MIDPRICE - Midpoint Price over period\n",
    "        new_df['MIDPRICE'] = MIDPRICE(new_df.High, new_df.Low, timeperiod=14)\n",
    "        \n",
    "        # Rolling Average Dollar Volume\n",
    "        new_df['dollar_vol'] = new_df[['Close', 'Volume']].prod(axis=1)\n",
    "        new_df['dollar_vol_1m'] = (new_df.dollar_vol\n",
    "                                .rolling(window=30)\n",
    "                                .mean()).values\n",
    "        \n",
    "        # Bollinger Bands\n",
    "        new_df['upperband'],new_df['middleband'],new_df['lowerband'] = BBANDS(new_df.Close, \n",
    "                                                                     timeperiod=5, \n",
    "                                                                     nbdevup=2, \n",
    "                                                                     nbdevdn=2, \n",
    "                                                                     matype=0)\n",
    "        # Momentum Indicators\n",
    "        new_df['RSI'] = RSI(new_df.Close, timeperiod=14)\n",
    "        new_df['MACD'] = MACD(new_df.Close, fastperiod=12, slowperiod=26, signalperiod=9)[0]\n",
    "        new_df['ATR'] = ATR(new_df.High, new_df.Low, new_df.Close, timeperiod=14)\n",
    "        \n",
    "        new_df.dropna(inplace=True)\n",
    "        \n",
    "        return new_df\n"
   ]
  },
  {
   "cell_type": "code",
   "execution_count": 78,
   "id": "5fea63e2",
   "metadata": {},
   "outputs": [],
   "source": [
    "yfin_data = get_yfinance_data('SPY', '2000-01-01', '2022-05-01')"
   ]
  },
  {
   "cell_type": "code",
   "execution_count": 79,
   "id": "e5f184c7",
   "metadata": {},
   "outputs": [
    {
     "data": {
      "text/html": [
       "<div>\n",
       "<style scoped>\n",
       "    .dataframe tbody tr th:only-of-type {\n",
       "        vertical-align: middle;\n",
       "    }\n",
       "\n",
       "    .dataframe tbody tr th {\n",
       "        vertical-align: top;\n",
       "    }\n",
       "\n",
       "    .dataframe thead th {\n",
       "        text-align: right;\n",
       "    }\n",
       "</style>\n",
       "<table border=\"1\" class=\"dataframe\">\n",
       "  <thead>\n",
       "    <tr style=\"text-align: right;\">\n",
       "      <th></th>\n",
       "      <th>Open</th>\n",
       "      <th>High</th>\n",
       "      <th>Low</th>\n",
       "      <th>Close</th>\n",
       "      <th>Adj Close</th>\n",
       "      <th>Volume</th>\n",
       "    </tr>\n",
       "    <tr>\n",
       "      <th>Date</th>\n",
       "      <th></th>\n",
       "      <th></th>\n",
       "      <th></th>\n",
       "      <th></th>\n",
       "      <th></th>\n",
       "      <th></th>\n",
       "    </tr>\n",
       "  </thead>\n",
       "  <tbody>\n",
       "    <tr>\n",
       "      <th>2000-01-03 00:00:00-05:00</th>\n",
       "      <td>148.250000</td>\n",
       "      <td>148.250000</td>\n",
       "      <td>143.875000</td>\n",
       "      <td>145.437500</td>\n",
       "      <td>95.746468</td>\n",
       "      <td>8164300</td>\n",
       "    </tr>\n",
       "    <tr>\n",
       "      <th>2000-01-04 00:00:00-05:00</th>\n",
       "      <td>143.531250</td>\n",
       "      <td>144.062500</td>\n",
       "      <td>139.640625</td>\n",
       "      <td>139.750000</td>\n",
       "      <td>92.002182</td>\n",
       "      <td>8089800</td>\n",
       "    </tr>\n",
       "    <tr>\n",
       "      <th>2000-01-05 00:00:00-05:00</th>\n",
       "      <td>139.937500</td>\n",
       "      <td>141.531250</td>\n",
       "      <td>137.250000</td>\n",
       "      <td>140.000000</td>\n",
       "      <td>92.166794</td>\n",
       "      <td>12177900</td>\n",
       "    </tr>\n",
       "    <tr>\n",
       "      <th>2000-01-06 00:00:00-05:00</th>\n",
       "      <td>139.625000</td>\n",
       "      <td>141.500000</td>\n",
       "      <td>137.750000</td>\n",
       "      <td>137.750000</td>\n",
       "      <td>90.685524</td>\n",
       "      <td>6227200</td>\n",
       "    </tr>\n",
       "    <tr>\n",
       "      <th>2000-01-07 00:00:00-05:00</th>\n",
       "      <td>140.312500</td>\n",
       "      <td>145.750000</td>\n",
       "      <td>140.062500</td>\n",
       "      <td>145.750000</td>\n",
       "      <td>95.952179</td>\n",
       "      <td>8066500</td>\n",
       "    </tr>\n",
       "    <tr>\n",
       "      <th>...</th>\n",
       "      <td>...</td>\n",
       "      <td>...</td>\n",
       "      <td>...</td>\n",
       "      <td>...</td>\n",
       "      <td>...</td>\n",
       "      <td>...</td>\n",
       "    </tr>\n",
       "    <tr>\n",
       "      <th>2022-04-25 00:00:00-04:00</th>\n",
       "      <td>423.670013</td>\n",
       "      <td>428.690002</td>\n",
       "      <td>418.839996</td>\n",
       "      <td>428.510010</td>\n",
       "      <td>424.921417</td>\n",
       "      <td>119647700</td>\n",
       "    </tr>\n",
       "    <tr>\n",
       "      <th>2022-04-26 00:00:00-04:00</th>\n",
       "      <td>425.829987</td>\n",
       "      <td>426.040009</td>\n",
       "      <td>416.070007</td>\n",
       "      <td>416.100006</td>\n",
       "      <td>412.615356</td>\n",
       "      <td>103996300</td>\n",
       "    </tr>\n",
       "    <tr>\n",
       "      <th>2022-04-27 00:00:00-04:00</th>\n",
       "      <td>417.239990</td>\n",
       "      <td>422.920013</td>\n",
       "      <td>415.010010</td>\n",
       "      <td>417.269989</td>\n",
       "      <td>413.775543</td>\n",
       "      <td>122030000</td>\n",
       "    </tr>\n",
       "    <tr>\n",
       "      <th>2022-04-28 00:00:00-04:00</th>\n",
       "      <td>422.290009</td>\n",
       "      <td>429.640015</td>\n",
       "      <td>417.600006</td>\n",
       "      <td>427.809998</td>\n",
       "      <td>424.227295</td>\n",
       "      <td>105449100</td>\n",
       "    </tr>\n",
       "    <tr>\n",
       "      <th>2022-04-29 00:00:00-04:00</th>\n",
       "      <td>423.589996</td>\n",
       "      <td>425.869995</td>\n",
       "      <td>411.209991</td>\n",
       "      <td>412.000000</td>\n",
       "      <td>408.549683</td>\n",
       "      <td>145491100</td>\n",
       "    </tr>\n",
       "  </tbody>\n",
       "</table>\n",
       "<p>5618 rows × 6 columns</p>\n",
       "</div>"
      ],
      "text/plain": [
       "                                 Open        High         Low       Close  \\\n",
       "Date                                                                        \n",
       "2000-01-03 00:00:00-05:00  148.250000  148.250000  143.875000  145.437500   \n",
       "2000-01-04 00:00:00-05:00  143.531250  144.062500  139.640625  139.750000   \n",
       "2000-01-05 00:00:00-05:00  139.937500  141.531250  137.250000  140.000000   \n",
       "2000-01-06 00:00:00-05:00  139.625000  141.500000  137.750000  137.750000   \n",
       "2000-01-07 00:00:00-05:00  140.312500  145.750000  140.062500  145.750000   \n",
       "...                               ...         ...         ...         ...   \n",
       "2022-04-25 00:00:00-04:00  423.670013  428.690002  418.839996  428.510010   \n",
       "2022-04-26 00:00:00-04:00  425.829987  426.040009  416.070007  416.100006   \n",
       "2022-04-27 00:00:00-04:00  417.239990  422.920013  415.010010  417.269989   \n",
       "2022-04-28 00:00:00-04:00  422.290009  429.640015  417.600006  427.809998   \n",
       "2022-04-29 00:00:00-04:00  423.589996  425.869995  411.209991  412.000000   \n",
       "\n",
       "                            Adj Close     Volume  \n",
       "Date                                              \n",
       "2000-01-03 00:00:00-05:00   95.746468    8164300  \n",
       "2000-01-04 00:00:00-05:00   92.002182    8089800  \n",
       "2000-01-05 00:00:00-05:00   92.166794   12177900  \n",
       "2000-01-06 00:00:00-05:00   90.685524    6227200  \n",
       "2000-01-07 00:00:00-05:00   95.952179    8066500  \n",
       "...                               ...        ...  \n",
       "2022-04-25 00:00:00-04:00  424.921417  119647700  \n",
       "2022-04-26 00:00:00-04:00  412.615356  103996300  \n",
       "2022-04-27 00:00:00-04:00  413.775543  122030000  \n",
       "2022-04-28 00:00:00-04:00  424.227295  105449100  \n",
       "2022-04-29 00:00:00-04:00  408.549683  145491100  \n",
       "\n",
       "[5618 rows x 6 columns]"
      ]
     },
     "execution_count": 79,
     "metadata": {},
     "output_type": "execute_result"
    }
   ],
   "source": [
    "yfin_data.df"
   ]
  },
  {
   "cell_type": "code",
   "execution_count": 80,
   "id": "57201898",
   "metadata": {},
   "outputs": [],
   "source": [
    "yfin_data = yfin_data.add_techical_indicators()"
   ]
  },
  {
   "cell_type": "code",
   "execution_count": 81,
   "id": "17820147",
   "metadata": {},
   "outputs": [
    {
     "data": {
      "text/html": [
       "<div>\n",
       "<style scoped>\n",
       "    .dataframe tbody tr th:only-of-type {\n",
       "        vertical-align: middle;\n",
       "    }\n",
       "\n",
       "    .dataframe tbody tr th {\n",
       "        vertical-align: top;\n",
       "    }\n",
       "\n",
       "    .dataframe thead th {\n",
       "        text-align: right;\n",
       "    }\n",
       "</style>\n",
       "<table border=\"1\" class=\"dataframe\">\n",
       "  <thead>\n",
       "    <tr style=\"text-align: right;\">\n",
       "      <th></th>\n",
       "      <th>Open</th>\n",
       "      <th>High</th>\n",
       "      <th>Low</th>\n",
       "      <th>Close</th>\n",
       "      <th>Adj Close</th>\n",
       "      <th>Volume</th>\n",
       "      <th>year</th>\n",
       "      <th>month</th>\n",
       "      <th>MA</th>\n",
       "      <th>MIDPRICE</th>\n",
       "      <th>dollar_vol</th>\n",
       "      <th>dollar_vol_1m</th>\n",
       "      <th>upperband</th>\n",
       "      <th>middleband</th>\n",
       "      <th>lowerband</th>\n",
       "      <th>RSI</th>\n",
       "      <th>MACD</th>\n",
       "      <th>ATR</th>\n",
       "    </tr>\n",
       "    <tr>\n",
       "      <th>Date</th>\n",
       "      <th></th>\n",
       "      <th></th>\n",
       "      <th></th>\n",
       "      <th></th>\n",
       "      <th></th>\n",
       "      <th></th>\n",
       "      <th></th>\n",
       "      <th></th>\n",
       "      <th></th>\n",
       "      <th></th>\n",
       "      <th></th>\n",
       "      <th></th>\n",
       "      <th></th>\n",
       "      <th></th>\n",
       "      <th></th>\n",
       "      <th></th>\n",
       "      <th></th>\n",
       "      <th></th>\n",
       "    </tr>\n",
       "  </thead>\n",
       "  <tbody>\n",
       "    <tr>\n",
       "      <th>2000-02-18 00:00:00-05:00</th>\n",
       "      <td>138.875</td>\n",
       "      <td>138.875</td>\n",
       "      <td>134.625</td>\n",
       "      <td>135.3125</td>\n",
       "      <td>89.080818</td>\n",
       "      <td>9409200</td>\n",
       "      <td>2000</td>\n",
       "      <td>2</td>\n",
       "      <td>142.049479</td>\n",
       "      <td>139.59375</td>\n",
       "      <td>1.273182e+09</td>\n",
       "      <td>1.089854e+09</td>\n",
       "      <td>142.430631</td>\n",
       "      <td>138.634375</td>\n",
       "      <td>134.838119</td>\n",
       "      <td>37.603618</td>\n",
       "      <td>-1.660413</td>\n",
       "      <td>2.967091</td>\n",
       "    </tr>\n",
       "  </tbody>\n",
       "</table>\n",
       "</div>"
      ],
      "text/plain": [
       "                              Open     High      Low     Close  Adj Close  \\\n",
       "Date                                                                        \n",
       "2000-02-18 00:00:00-05:00  138.875  138.875  134.625  135.3125  89.080818   \n",
       "\n",
       "                            Volume  year  month          MA   MIDPRICE  \\\n",
       "Date                                                                     \n",
       "2000-02-18 00:00:00-05:00  9409200  2000      2  142.049479  139.59375   \n",
       "\n",
       "                             dollar_vol  dollar_vol_1m   upperband  \\\n",
       "Date                                                                 \n",
       "2000-02-18 00:00:00-05:00  1.273182e+09   1.089854e+09  142.430631   \n",
       "\n",
       "                           middleband   lowerband        RSI      MACD  \\\n",
       "Date                                                                     \n",
       "2000-02-18 00:00:00-05:00  138.634375  134.838119  37.603618 -1.660413   \n",
       "\n",
       "                                ATR  \n",
       "Date                                 \n",
       "2000-02-18 00:00:00-05:00  2.967091  "
      ]
     },
     "execution_count": 81,
     "metadata": {},
     "output_type": "execute_result"
    }
   ],
   "source": [
    "yfin_data.head(1)"
   ]
  },
  {
   "cell_type": "markdown",
   "id": "a2ccd971",
   "metadata": {},
   "source": [
    "#### A-2. Build ML-based Trading Strategy"
   ]
  },
  {
   "cell_type": "code",
   "execution_count": 82,
   "id": "bec00ae0",
   "metadata": {},
   "outputs": [],
   "source": [
    "class Strategy_generation:\n",
    "    def __init__(self, df_stock, split_date):\n",
    "        self.split_date = split_date\n",
    "        self.df_stock = df_stock\n",
    "        # we shift -1 because we want to predict the price of the next day\n",
    "        self.df_stock['y'] = self.df_stock['Close'].shift(-1)\n",
    "        X = self.df_stock.dropna()\n",
    "        y = X['y']\n",
    "        X = X.drop('y', axis = 1)\n",
    "        # Train test split\n",
    "        self.X_train, self.X_test = X[X.index < self.split_date], X[X.index >= self.split_date]\n",
    "        self.y_train, self.y_test = y[y.index < self.split_date], y[y.index >= self.split_date]\n",
    "\n",
    "    def train_XgbRegressor(self):\n",
    "        '''\n",
    "        We train on all the technical indicators we created from the feature engineering steps\n",
    "        '''\n",
    "        base = xgb.XGBRegressor()\n",
    "        model = base.fit(self.X_train, self.y_train.values.ravel())\n",
    "        self.model = model\n",
    "        return model\n",
    "\n",
    "    def run_XgbRegressor(self):\n",
    "        ypred = self.model.predict(self.X_test)\n",
    "        ypred_s = pd.Series(ypred, self.y_test.index)\n",
    "        result = pd.concat([ypred_s, self.y_test], axis=1)\n",
    "        result.columns = ['y_pred','y_test']\n",
    "        self.ypred_s = ypred_s\n",
    "        self.result = result\n",
    "        return result\n"
   ]
  },
  {
   "cell_type": "code",
   "execution_count": 83,
   "id": "edc20af9",
   "metadata": {},
   "outputs": [],
   "source": [
    "strat = Strategy_generation(yfin_data, '2016-01-01')"
   ]
  },
  {
   "cell_type": "code",
   "execution_count": 84,
   "id": "5055440b",
   "metadata": {},
   "outputs": [
    {
     "data": {
      "text/plain": [
       "XGBRegressor(base_score=0.5, booster='gbtree', callbacks=None,\n",
       "             colsample_bylevel=1, colsample_bynode=1, colsample_bytree=1,\n",
       "             early_stopping_rounds=None, enable_categorical=False,\n",
       "             eval_metric=None, gamma=0, gpu_id=-1, grow_policy='depthwise',\n",
       "             importance_type=None, interaction_constraints='',\n",
       "             learning_rate=0.300000012, max_bin=256, max_cat_to_onehot=4,\n",
       "             max_delta_step=0, max_depth=6, max_leaves=0, min_child_weight=1,\n",
       "             missing=nan, monotone_constraints='()', n_estimators=100, n_jobs=0,\n",
       "             num_parallel_tree=1, predictor='auto', random_state=0, reg_alpha=0,\n",
       "             reg_lambda=1, ...)"
      ]
     },
     "execution_count": 84,
     "metadata": {},
     "output_type": "execute_result"
    }
   ],
   "source": [
    "strat.train_XgbRegressor()"
   ]
  },
  {
   "cell_type": "code",
   "execution_count": 85,
   "id": "5da68e39",
   "metadata": {},
   "outputs": [
    {
     "data": {
      "text/html": [
       "<div>\n",
       "<style scoped>\n",
       "    .dataframe tbody tr th:only-of-type {\n",
       "        vertical-align: middle;\n",
       "    }\n",
       "\n",
       "    .dataframe tbody tr th {\n",
       "        vertical-align: top;\n",
       "    }\n",
       "\n",
       "    .dataframe thead th {\n",
       "        text-align: right;\n",
       "    }\n",
       "</style>\n",
       "<table border=\"1\" class=\"dataframe\">\n",
       "  <thead>\n",
       "    <tr style=\"text-align: right;\">\n",
       "      <th></th>\n",
       "      <th>y_pred</th>\n",
       "      <th>y_test</th>\n",
       "    </tr>\n",
       "    <tr>\n",
       "      <th>Date</th>\n",
       "      <th></th>\n",
       "      <th></th>\n",
       "    </tr>\n",
       "  </thead>\n",
       "  <tbody>\n",
       "    <tr>\n",
       "      <th>2016-01-04 00:00:00-05:00</th>\n",
       "      <td>199.086456</td>\n",
       "      <td>201.360001</td>\n",
       "    </tr>\n",
       "  </tbody>\n",
       "</table>\n",
       "</div>"
      ],
      "text/plain": [
       "                               y_pred      y_test\n",
       "Date                                             \n",
       "2016-01-04 00:00:00-05:00  199.086456  201.360001"
      ]
     },
     "execution_count": 85,
     "metadata": {},
     "output_type": "execute_result"
    }
   ],
   "source": [
    "result = strat.run_XgbRegressor()\n",
    "result.head(1)"
   ]
  },
  {
   "cell_type": "markdown",
   "id": "8b63f44d",
   "metadata": {},
   "source": [
    "#### A-3. Validate Strategy and Generate Error Metric Data\n"
   ]
  },
  {
   "cell_type": "code",
   "execution_count": 86,
   "id": "d1c19e1a",
   "metadata": {},
   "outputs": [],
   "source": [
    "class ValidateStrategy:\n",
    "    '''\n",
    "    Given y_pred and y_test, calculate ['MAE','MSE', 'MAPE', 'sMAPE' ] for each single day in a rolling base\n",
    "    '''\n",
    "    def metric(data):\n",
    "        '''\n",
    "        data: DataFrame containing Date, y_test and y_pred\n",
    "        '''\n",
    "        test = data.y_test\n",
    "        pred = data.y_pred\n",
    "        d = [('MAE', mean_absolute_error(test, pred)),\n",
    "             ('MSE', mean_squared_error(test, pred)),\n",
    "             ('MAPE', mean_absolute_percentage_error(test, pred, symmetric=False)),\n",
    "             ('sMAPE', mean_absolute_percentage_error(test, pred, symmetric=True))]\n",
    "        data_new = pd.DataFrame(d, columns=['Metrics', 'Value']).set_index('Metrics')\n",
    "        return data_new\n",
    "    def get_metric(w,i,df):  \n",
    "        '''\n",
    "        Calculate error metrics for each single day\n",
    "        w: rolling window for calculating error metrics. In other words, w days before i.\n",
    "        i: the index of the day we want to calculate error metrics\n",
    "        df: DataFrame containing Date, y_test and y_pred\n",
    "        (If i is smaller than w, just use the days it has before i.)\n",
    "        '''\n",
    "        if i >= w:\n",
    "            start = i-w+1\n",
    "            end = i+1\n",
    "            return ValidateStrategy.metric(df.iloc[start:end,1:])\n",
    "        else: \n",
    "            return ValidateStrategy.metric(df.iloc[:i+1,1:])\n",
    "    def get_df(window,df_result):\n",
    "        '''\n",
    "        Combine error metrics of all days into one DataFrame\n",
    "        window: rolling window for calculating error metrics.\n",
    "        df_result:DataFrame containing Date, y_test and y_pred\n",
    "        '''\n",
    "        df_result = df_result.reset_index()\n",
    "        for index in df_result.index:\n",
    "            df_result.loc[index,'MAE'] = ValidateStrategy.get_metric(w=window, i=index, df=df_result).loc['MAE','Value']\n",
    "            df_result.loc[index,'MSE'] = ValidateStrategy.get_metric(w=window, i=index, df=df_result).loc['MSE','Value']\n",
    "            df_result.loc[index,'MAPE'] = ValidateStrategy.get_metric(w=window, i=index, df=df_result).loc['MAPE','Value']\n",
    "            df_result.loc[index,'sMAPE'] = ValidateStrategy.get_metric(w=window, i=index, df=df_result).loc['sMAPE','Value']\n",
    "        return df_result"
   ]
  },
  {
   "cell_type": "code",
   "execution_count": 87,
   "id": "fcd85e45",
   "metadata": {},
   "outputs": [
    {
     "data": {
      "text/html": [
       "<div>\n",
       "<style scoped>\n",
       "    .dataframe tbody tr th:only-of-type {\n",
       "        vertical-align: middle;\n",
       "    }\n",
       "\n",
       "    .dataframe tbody tr th {\n",
       "        vertical-align: top;\n",
       "    }\n",
       "\n",
       "    .dataframe thead th {\n",
       "        text-align: right;\n",
       "    }\n",
       "</style>\n",
       "<table border=\"1\" class=\"dataframe\">\n",
       "  <thead>\n",
       "    <tr style=\"text-align: right;\">\n",
       "      <th></th>\n",
       "      <th>Date</th>\n",
       "      <th>y_pred</th>\n",
       "      <th>y_test</th>\n",
       "      <th>MAE</th>\n",
       "      <th>MSE</th>\n",
       "      <th>MAPE</th>\n",
       "      <th>sMAPE</th>\n",
       "    </tr>\n",
       "  </thead>\n",
       "  <tbody>\n",
       "    <tr>\n",
       "      <th>0</th>\n",
       "      <td>2016-01-04 00:00:00-05:00</td>\n",
       "      <td>199.086456</td>\n",
       "      <td>201.360001</td>\n",
       "      <td>2.273544</td>\n",
       "      <td>5.169004</td>\n",
       "      <td>0.011291</td>\n",
       "      <td>0.011355</td>\n",
       "    </tr>\n",
       "  </tbody>\n",
       "</table>\n",
       "</div>"
      ],
      "text/plain": [
       "                       Date      y_pred      y_test       MAE       MSE  \\\n",
       "0 2016-01-04 00:00:00-05:00  199.086456  201.360001  2.273544  5.169004   \n",
       "\n",
       "       MAPE     sMAPE  \n",
       "0  0.011291  0.011355  "
      ]
     },
     "execution_count": 87,
     "metadata": {},
     "output_type": "execute_result"
    }
   ],
   "source": [
    "DF_SPY_result_Valid = ValidateStrategy.get_df(30,result)\n",
    "DF_SPY_result_Valid.head(1)"
   ]
  },
  {
   "cell_type": "markdown",
   "id": "b927ed76",
   "metadata": {},
   "source": [
    "## PART B: Model Assertion"
   ]
  },
  {
   "cell_type": "markdown",
   "id": "91a2a0ed",
   "metadata": {},
   "source": [
    "#### B-1. EDA"
   ]
  },
  {
   "cell_type": "code",
   "execution_count": 88,
   "id": "4e5c2121",
   "metadata": {},
   "outputs": [
    {
     "data": {
      "text/plain": [
       "<AxesSubplot:xlabel='Date'>"
      ]
     },
     "execution_count": 88,
     "metadata": {},
     "output_type": "execute_result"
    },
    {
     "data": {
      "image/png": "[encoded data removed]",
      "text/plain": [
       "<Figure size 1440x720 with 1 Axes>"
      ]
     },
     "metadata": {
      "needs_background": "light"
     },
     "output_type": "display_data"
    }
   ],
   "source": [
    "result.plot(figsize=(20, 10))"
   ]
  },
  {
   "cell_type": "code",
   "execution_count": 89,
   "id": "d79029db",
   "metadata": {},
   "outputs": [
    {
     "data": {
      "text/html": [
       "<div>\n",
       "<style scoped>\n",
       "    .dataframe tbody tr th:only-of-type {\n",
       "        vertical-align: middle;\n",
       "    }\n",
       "\n",
       "    .dataframe tbody tr th {\n",
       "        vertical-align: top;\n",
       "    }\n",
       "\n",
       "    .dataframe thead th {\n",
       "        text-align: right;\n",
       "    }\n",
       "</style>\n",
       "<table border=\"1\" class=\"dataframe\">\n",
       "  <thead>\n",
       "    <tr style=\"text-align: right;\">\n",
       "      <th></th>\n",
       "      <th>Date</th>\n",
       "      <th>y_pred</th>\n",
       "      <th>y_test</th>\n",
       "      <th>MAE</th>\n",
       "      <th>MSE</th>\n",
       "      <th>MAPE</th>\n",
       "      <th>sMAPE</th>\n",
       "    </tr>\n",
       "  </thead>\n",
       "  <tbody>\n",
       "    <tr>\n",
       "      <th>0</th>\n",
       "      <td>2016-01-04 00:00:00-05:00</td>\n",
       "      <td>199.086456</td>\n",
       "      <td>201.360001</td>\n",
       "      <td>2.273544</td>\n",
       "      <td>5.169004</td>\n",
       "      <td>0.011291</td>\n",
       "      <td>0.011355</td>\n",
       "    </tr>\n",
       "  </tbody>\n",
       "</table>\n",
       "</div>"
      ],
      "text/plain": [
       "                       Date      y_pred      y_test       MAE       MSE  \\\n",
       "0 2016-01-04 00:00:00-05:00  199.086456  201.360001  2.273544  5.169004   \n",
       "\n",
       "       MAPE     sMAPE  \n",
       "0  0.011291  0.011355  "
      ]
     },
     "execution_count": 89,
     "metadata": {},
     "output_type": "execute_result"
    }
   ],
   "source": [
    "DF_SPY_result_Valid.head(1)"
   ]
  },
  {
   "cell_type": "code",
   "execution_count": 90,
   "id": "9b1370ef",
   "metadata": {},
   "outputs": [
    {
     "data": {
      "image/png": "[encoded data removed]",
      "text/plain": [
       "<Figure size 432x288 with 1 Axes>"
      ]
     },
     "metadata": {
      "needs_background": "light"
     },
     "output_type": "display_data"
    },
    {
     "data": {
      "image/png": "[encoded data removed]",
      "text/plain": [
       "<Figure size 432x288 with 1 Axes>"
      ]
     },
     "metadata": {
      "needs_background": "light"
     },
     "output_type": "display_data"
    },
    {
     "data": {
      "image/png": "[encoded data removed]",
      "text/plain": [
       "<Figure size 432x288 with 1 Axes>"
      ]
     },
     "metadata": {
      "needs_background": "light"
     },
     "output_type": "display_data"
    },
    {
     "data": {
      "image/png": "[encoded data removed]",
      "text/plain": [
       "<Figure size 432x288 with 1 Axes>"
      ]
     },
     "metadata": {
      "needs_background": "light"
     },
     "output_type": "display_data"
    }
   ],
   "source": [
    "DF_SPY_result_Valid[['MAE']].plot()\n",
    "plt.show()\n",
    "DF_SPY_result_Valid[['MSE']].plot()\n",
    "plt.show()\n",
    "DF_SPY_result_Valid[['MAPE']].plot()\n",
    "plt.show()\n",
    "DF_SPY_result_Valid[['sMAPE']].plot()\n",
    "plt.show()"
   ]
  },
  {
   "cell_type": "markdown",
   "id": "eef7d240",
   "metadata": {},
   "source": [
    "#### B-2. Model Assetion Framework"
   ]
  },
  {
   "cell_type": "code",
   "execution_count": 91,
   "id": "67f2afb1",
   "metadata": {},
   "outputs": [],
   "source": [
    "class ModelAssertion:\n",
    "    '''\n",
    "    Use different machine learning models to detect a huge surge in error metrics\n",
    "    window_out_train: length of the period to train different models\n",
    "    window_out_test: length of the period to test different models\n",
    "    '''\n",
    "    def __init__(self,df_result,window_me):\n",
    "        '''\n",
    "        df_result: DataFrame contains ['Date','MAE','MSE', 'MAPE', 'sMAPE']\n",
    "        window_me: length of the period to calculate error metrics\n",
    "        '''\n",
    "        self.df_result = df_result \n",
    "        self.df_Valid = ValidateStrategy.get_df(window_me,df_result)\n",
    "   \n",
    "    def outlier_mean_std(self,window_out_train,window_out_test):\n",
    "        '''\n",
    "        model assertion warning: \n",
    "        the mean of all error metrics in test are larger than the mean + 3* std of all error metrcs in train\n",
    "        '''\n",
    "        X = self.df_Valid[['MAE','MSE', 'MAPE', 'sMAPE' ]]\n",
    "        X_train = X[:window_out_train]\n",
    "        thres = 3*X_train.std()+X_train.mean()\n",
    "        for index in range(window_out_train+window_out_test,len(self.df_Valid)-1):\n",
    "            X_test = X[index-window_out_test:index]\n",
    "            X_test_mean = X_test.mean()\n",
    "            test_result = X_test_mean>thres\n",
    "            if (test_result == True).all() == True:\n",
    "                print(self.df_Valid.loc[index, 'Date'])\n",
    "                break\n",
    "\n",
    "    def outlier_iso_forest(self,window_out_train,window_out_test):\n",
    "        '''\n",
    "        model assertion warning: \n",
    "        1. Normalize train and test dataset\n",
    "        2. Train isolation forest in train datasets. \n",
    "        3. If all datapoints in test datasets are detected as outliers by isolation forest moodels, break!\n",
    "        '''\n",
    "        X = self.df_Valid[['MAE','MSE', 'MAPE', 'sMAPE' ]]\n",
    "        X_train = X[:window_out_train]\n",
    "        #use train datasets to train StandardScaler\n",
    "        scaler_1 = StandardScaler()\n",
    "        scaler_1.fit(np.array(X_train['MAE']).reshape(-1,1))\n",
    "        scaler_2 = StandardScaler()\n",
    "        scaler_2.fit(np.array(X_train['MSE']).reshape(-1,1))\n",
    "        scaler_3 = StandardScaler()\n",
    "        scaler_3.fit(np.array(X_train['MAPE']).reshape(-1,1))\n",
    "        scaler_4 = StandardScaler()\n",
    "        scaler_4.fit(np.array(X_train['sMAPE']).reshape(-1,1))\n",
    "        X_train['MAE'] = X_train['MAE'].apply(lambda x: scaler_1.transform(np.array(x).reshape(-1,1))[0][0])\n",
    "        X_train['MSE'] = X_train['MSE'].apply(lambda x: scaler_2.transform(np.array(x).reshape(-1,1))[0][0])\n",
    "        X_train['MAPE'] = X_train['MAPE'].apply(lambda x: scaler_3.transform(np.array(x).reshape(-1,1))[0][0])\n",
    "        X_train['sMAPE'] = X_train['sMAPE'].apply(lambda x: scaler_4.transform(np.array(x).reshape(-1,1))[0][0])\n",
    "        clf = IsolationForest(random_state=0).fit(X_train)\n",
    "        for index in range(window_out_train+window_out_test,len(self.df_Valid)-1):\n",
    "            X_test = X[index-window_out_test:index]\n",
    "            #apply trained StandardScaler to test datasets\n",
    "            X_test['MAE'] = X_test['MAE'].apply(lambda x: scaler_1.transform(np.array(x).reshape(-1,1))[0][0])\n",
    "            X_test['MSE'] = X_test['MSE'].apply(lambda x: scaler_2.transform(np.array(x).reshape(-1,1))[0][0])\n",
    "            X_test['MAPE'] = X_test['MAPE'].apply(lambda x: scaler_3.transform(np.array(x).reshape(-1,1))[0][0])\n",
    "            X_test['sMAPE'] = X_test['sMAPE'].apply(lambda x: scaler_4.transform(np.array(x).reshape(-1,1))[0][0])\n",
    "            test_result = clf.predict(X_test).tolist()\n",
    "            #check if all datapoints in test datasets are detected as outliers\n",
    "            if all(i == -1 for i in test_result) == True:\n",
    "                print(self.df_Valid.loc[index, 'Date'])\n",
    "                break\n",
    "    def outlier_dbscan(self, window_out_train,window_out_test):\n",
    "        '''\n",
    "        model assertion warning: \n",
    "        1. Combine train and test dataseat together \n",
    "        2. Normalize combined dataset and use dbscan to assign combined data into different groups\n",
    "        3. If groups in train and test datasets are completely different, break!\n",
    "        '''\n",
    "        X = self.df_Valid[['MAE','MSE', 'MAPE', 'sMAPE' ]]\n",
    "        for index in range(window_out_train+window_out_test,len(self.df_Valid)-1):\n",
    "            #combine train and test data\n",
    "            X = pd.concat([DF_SPY_result_Valid[['MAE','MSE', 'MAPE', 'sMAPE' ]][:window_out_train],\\\n",
    "                           DF_SPY_result_Valid[['MAE','MSE', 'MAPE', 'sMAPE' ]][index-window_out_test:index]])\n",
    "            #Normalize\n",
    "            for i in ['MAE','MSE', 'MAPE', 'sMAPE' ]:\n",
    "                scaler = StandardScaler()\n",
    "                scaler.fit(np.array(X[i]).reshape(-1,1))\n",
    "                X[i] = X[i].apply(lambda x: scaler.transform(np.array(x).reshape(-1,1))[0][0])\n",
    "            #Train model\n",
    "            dbscan=DBSCAN()\n",
    "            model = dbscan.fit(X)\n",
    "            #get unique groups of train and test data\n",
    "            train_result = model.labels_[:window_out_train].tolist()\n",
    "            test_result = model.labels_[-window_out_test:].tolist()\n",
    "            train_unique = list(set(train_result))\n",
    "            train_unique.remove(-1) if -1 in train_unique else None\n",
    "            test_unique = list(set(test_result))\n",
    "            test_unique.remove(-1) if -1 in test_unique else None\n",
    "            #print(model.labels_)\n",
    "            #print(train_unique,test_unique)\n",
    "            #check if groups in train and test datasets are completely different\n",
    "            if any(x in test_unique for x in train_unique)==False:\n",
    "                print(self.df_Valid.loc[index, 'Date'])\n",
    "                break\n",
    "    def outlier_hdbscan(self, window_out_train,window_out_test):\n",
    "        '''\n",
    "        model assertion warning: \n",
    "        1. Combine train and test dataseat together \n",
    "        2. Normalize combined dataset and use dbscan to assign combined data into different groups\n",
    "        3. If groups in train and test datasets are completely different, break!\n",
    "        '''\n",
    "        X = self.df_Valid[['MAE','MSE', 'MAPE', 'sMAPE' ]]\n",
    "        for index in range(window_out_train+window_out_test,len(self.df_Valid)-1):\n",
    "            #combine train and test data\n",
    "            X = pd.concat([DF_SPY_result_Valid[['MAE','MSE', 'MAPE', 'sMAPE' ]][:window_out_train],\\\n",
    "                           DF_SPY_result_Valid[['MAE','MSE', 'MAPE', 'sMAPE' ]][index-window_out_test:index]])\n",
    "            #Normalize\n",
    "            for i in ['MAE','MSE', 'MAPE', 'sMAPE' ]:\n",
    "                scaler = StandardScaler()\n",
    "                scaler.fit(np.array(X[i]).reshape(-1,1))\n",
    "                X[i] = X[i].apply(lambda x: scaler.transform(np.array(x).reshape(-1,1))[0][0])\n",
    "            #Train model\n",
    "            clusterer = hdbscan.HDBSCAN()\n",
    "            model = clusterer.fit(X)\n",
    "            #get unique groups of train and test data\n",
    "            train_result = model.labels_[:window_out_train].tolist()\n",
    "            test_result = model.labels_[-window_out_test:].tolist()\n",
    "            train_unique = list(set(train_result))\n",
    "            train_unique.remove(-1) if -1 in train_unique else None\n",
    "            test_unique = list(set(test_result))\n",
    "            test_unique.remove(-1) if -1 in test_unique else None\n",
    "            #print(model.labels_)\n",
    "            #print(train_unique,test_unique)\n",
    "            if any(x in test_unique for x in train_unique)==False:\n",
    "                print(self.df_Valid.loc[index, 'Date'])\n",
    "                break"
   ]
  },
  {
   "cell_type": "code",
   "execution_count": 92,
   "id": "02bfe766",
   "metadata": {},
   "outputs": [
    {
     "name": "stdout",
     "output_type": "stream",
     "text": [
      "2016-08-23 00:00:00-04:00\n"
     ]
    }
   ],
   "source": [
    "ModelAssertion(df_result = DF_SPY_result_Valid,window_me = 30).outlier_mean_std(window_out_train =100,window_out_test = 30)"
   ]
  },
  {
   "cell_type": "code",
   "execution_count": 93,
   "id": "5d68d294",
   "metadata": {},
   "outputs": [
    {
     "name": "stdout",
     "output_type": "stream",
     "text": [
      "2016-09-01 00:00:00-04:00\n"
     ]
    }
   ],
   "source": [
    "ModelAssertion(df_result = DF_SPY_result_Valid,window_me = 30).outlier_iso_forest(window_out_train =100,window_out_test = 30)"
   ]
  },
  {
   "cell_type": "code",
   "execution_count": 94,
   "id": "2e8395ae",
   "metadata": {},
   "outputs": [
    {
     "name": "stdout",
     "output_type": "stream",
     "text": [
      "2016-09-15 00:00:00-04:00\n"
     ]
    }
   ],
   "source": [
    "ModelAssertion(df_result = DF_SPY_result_Valid,window_me = 30).outlier_dbscan(window_out_train =100,window_out_test = 30)"
   ]
  },
  {
   "cell_type": "code",
   "execution_count": 95,
   "id": "165edc2d",
   "metadata": {},
   "outputs": [
    {
     "name": "stdout",
     "output_type": "stream",
     "text": [
      "2016-08-29 00:00:00-04:00\n"
     ]
    }
   ],
   "source": [
    "ModelAssertion(df_result = DF_SPY_result_Valid,window_me = 30).outlier_hdbscan(window_out_train =100,window_out_test = 30)"
   ]
  },
  {
   "cell_type": "code",
   "execution_count": null,
   "id": "e316fa73",
   "metadata": {},
   "outputs": [],
   "source": []
  }
 ],
 "metadata": {
  "kernelspec": {
   "display_name": "Python 3 (ipykernel)",
   "language": "python",
   "name": "python3"
  },
  "language_info": {
   "codemirror_mode": {
    "name": "ipython",
    "version": 3
   },
   "file_extension": ".py",
   "mimetype": "text/x-python",
   "name": "python",
   "nbconvert_exporter": "python",
   "pygments_lexer": "ipython3",
   "version": "3.9.10"
  }
 },
 "nbformat": 4,
 "nbformat_minor": 5
}
